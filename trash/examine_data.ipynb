{
 "cells": [
  {
   "cell_type": "markdown",
   "metadata": {},
   "source": [
    "# TODO:\n",
    "\n",
    "1. accuracy CANNOT be 100% (even for SVM??)\n",
    "1. study performance of models\n",
    "1. remove bad features (e.g. id)\n",
    "1. add remaining good features\n",
    "1. use pandas.get_dummies or scikit OneHotEncoder for one-hot encoding (start with pandas)\n",
    "1. model and train regression models predicting actual return rate\n",
    "1. thinks how to continuously train models (every month, or something like that), productionize?\n",
    "\n"
   ]
  },
  {
   "cell_type": "code",
   "execution_count": 35,
   "metadata": {},
   "outputs": [],
   "source": [
    "import time\n",
    "\n",
    "import definitions\n",
    "import pandas_helper\n",
    "import scikit_helper\n",
    "import lendingclub_helper\n",
    "\n",
    "import pandas as pd\n",
    "import numpy as np\n"
   ]
  },
  {
   "cell_type": "code",
   "execution_count": 2,
   "metadata": {},
   "outputs": [
    {
     "name": "stdout",
     "output_type": "stream",
     "text": [
      "Loading data for 2007-2011\n",
      "Loading data for 2012-2013\n",
      "Loading data for 2014\n",
      "Loading data for 2015\n",
      "Loading data for 2016Q1\n",
      "Loading data for 2016Q2\n",
      "Loading data for 2016Q3\n",
      "Loading data for 2016Q4\n",
      "Loading data for 2017Q1\n",
      "Loading data for 2017Q2\n",
      "Loading data for 2017Q3\n",
      "Loading data for 2017Q4\n"
     ]
    }
   ],
   "source": [
    "dataFrames = {}\n",
    "for key in definitions.dataFiles:\n",
    "    print(\"Loading data for \" + key)\n",
    "    dataFrames[key] = pandas_helper.readData(definitions.dataFiles[key])"
   ]
  },
  {
   "cell_type": "code",
   "execution_count": 3,
   "metadata": {},
   "outputs": [
    {
     "name": "stdout",
     "output_type": "stream",
     "text": [
      "Building features for 2007-2011\n",
      "Building features for 2012-2013\n",
      "Building features for 2014\n",
      "Building features for 2015\n",
      "Building features for 2016Q1\n",
      "Building features for 2016Q2\n",
      "Building features for 2016Q3\n",
      "Building features for 2016Q4\n",
      "Building features for 2017Q1\n",
      "Building features for 2017Q2\n",
      "Building features for 2017Q3\n",
      "Building features for 2017Q4\n"
     ]
    }
   ],
   "source": [
    "for key in dataFrames.keys():\n",
    "    print(\"Building features for \" + key)\n",
    "    lendingclub_helper.buildFeatures(dataFrames[key])\n",
    "    featureColumns = lendingclub_helper.getFeatureColumns(dataFrames[key])\n",
    "    assert(not pandas_helper.columnsHaveNull(dataFrames[key], featureColumns.tolist()))"
   ]
  },
  {
   "cell_type": "code",
   "execution_count": 4,
   "metadata": {},
   "outputs": [
    {
     "name": "stdout",
     "output_type": "stream",
     "text": [
      "Building labels for 2007-2011\n",
      "(42535, 1192)\n",
      "Building labels for 2012-2013\n",
      "(188181, 1193)\n",
      "Building labels for 2014\n",
      "(235629, 1219)\n",
      "Building labels for 2015\n",
      "(421095, 1269)\n",
      "Building labels for 2016Q1\n",
      "(133887, 1244)\n",
      "Building labels for 2016Q2\n",
      "(97854, 1228)\n",
      "Building labels for 2016Q3\n",
      "(99120, 1228)\n",
      "Building labels for 2016Q4\n",
      "(103546, 1222)\n",
      "Building labels for 2017Q1\n",
      "(96779, 1216)\n",
      "Building labels for 2017Q2\n",
      "(105451, 1206)\n",
      "Building labels for 2017Q3\n",
      "(122701, 1211)\n",
      "Building labels for 2017Q4\n",
      "(118648, 1239)\n"
     ]
    }
   ],
   "source": [
    "for key in dataFrames.keys():\n",
    "    print(\"Building labels for \" + key)\n",
    "    lendingclub_helper.buildLabels(dataFrames[key])\n",
    "    print(dataFrames[key].shape)"
   ]
  },
  {
   "cell_type": "code",
   "execution_count": 41,
   "metadata": {},
   "outputs": [
    {
     "name": "stdout",
     "output_type": "stream",
     "text": [
      "2007-2011\n",
      "(1,)\n",
      "2012-2013\n",
      "(2,)\n",
      "2014\n",
      "(2,)\n",
      "2015\n",
      "(2,)\n",
      "2016Q1\n",
      "(2,)\n",
      "2016Q2\n",
      "(2,)\n",
      "2016Q3\n",
      "(2,)\n",
      "2016Q4\n",
      "(2,)\n",
      "2017Q1\n",
      "(2,)\n",
      "2017Q2\n",
      "(2,)\n",
      "2017Q3\n",
      "(2,)\n",
      "2017Q4\n",
      "(2,)\n",
      "{nan, 'INTEREST ONLY-3 MONTHS DEFERRAL'}\n"
     ]
    }
   ],
   "source": [
    "col = \"hardship_type\"\n",
    "all_values = []\n",
    "for key in dataFrames.keys():\n",
    "    print(key)\n",
    "#     print(col in dataFrames[key].columns)\n",
    "#     print(dataFrames[key][col].describe())\n",
    "#     print(dataFrames[key][col].unique())\n",
    "    print(dataFrames[key][col].unique().shape)\n",
    "    all_values += list(dataFrames[key][col].unique())\n",
    "\n",
    "print(set(all_values))\n"
   ]
  },
  {
   "cell_type": "code",
   "execution_count": 20,
   "metadata": {},
   "outputs": [
    {
     "data": {
      "text/plain": [
       "count     0\n",
       "unique    0\n",
       "Name: sec_app_earliest_cr_line, dtype: int64"
      ]
     },
     "execution_count": 20,
     "metadata": {},
     "output_type": "execute_result"
    }
   ],
   "source": [
    "dataFrames[\"2015\"][\"sec_app_earliest_cr_line\"].describe()"
   ]
  },
  {
   "cell_type": "code",
   "execution_count": 48,
   "metadata": {},
   "outputs": [
    {
     "name": "stdout",
     "output_type": "stream",
     "text": [
      "2007-2011\n",
      "Empty DataFrame\n",
      "Columns: []\n",
      "Index: [0, 1, 2, 3, 4]\n",
      "2012-2013\n",
      "   f_hardship_type_INTEREST ONLY-3 MONTHS DEFERRAL\n",
      "0                                                0\n",
      "1                                                0\n",
      "2                                                0\n",
      "3                                                0\n",
      "4                                                0\n",
      "2014\n",
      "   f_hardship_type_INTEREST ONLY-3 MONTHS DEFERRAL\n",
      "0                                                0\n",
      "1                                                0\n",
      "2                                                0\n",
      "3                                                0\n",
      "4                                                0\n",
      "2015\n",
      "   f_hardship_type_INTEREST ONLY-3 MONTHS DEFERRAL\n",
      "0                                                0\n",
      "1                                                0\n",
      "2                                                0\n",
      "3                                                0\n",
      "4                                                0\n",
      "2016Q1\n",
      "   f_hardship_type_INTEREST ONLY-3 MONTHS DEFERRAL\n",
      "0                                                0\n",
      "1                                                0\n",
      "2                                                0\n",
      "3                                                0\n",
      "4                                                0\n",
      "2016Q2\n",
      "   f_hardship_type_INTEREST ONLY-3 MONTHS DEFERRAL\n",
      "0                                                0\n",
      "1                                                0\n",
      "2                                                0\n",
      "3                                                0\n",
      "4                                                0\n",
      "2016Q3\n",
      "   f_hardship_type_INTEREST ONLY-3 MONTHS DEFERRAL\n",
      "0                                                0\n",
      "1                                                0\n",
      "2                                                0\n",
      "3                                                0\n",
      "4                                                0\n",
      "2016Q4\n",
      "   f_hardship_type_INTEREST ONLY-3 MONTHS DEFERRAL\n",
      "0                                                0\n",
      "1                                                0\n",
      "2                                                0\n",
      "3                                                0\n",
      "4                                                0\n",
      "2017Q1\n",
      "   f_hardship_type_INTEREST ONLY-3 MONTHS DEFERRAL\n",
      "0                                                0\n",
      "1                                                0\n",
      "2                                                0\n",
      "3                                                0\n",
      "4                                                0\n",
      "2017Q2\n",
      "   f_hardship_type_INTEREST ONLY-3 MONTHS DEFERRAL\n",
      "0                                                0\n",
      "1                                                0\n",
      "2                                                0\n",
      "3                                                0\n",
      "4                                                0\n",
      "2017Q3\n",
      "   f_hardship_type_INTEREST ONLY-3 MONTHS DEFERRAL\n",
      "0                                                0\n",
      "1                                                0\n",
      "2                                                0\n",
      "3                                                0\n",
      "4                                                0\n",
      "2017Q4\n",
      "   f_hardship_type_INTEREST ONLY-3 MONTHS DEFERRAL\n",
      "0                                                0\n",
      "1                                                0\n",
      "2                                                0\n",
      "3                                                0\n",
      "4                                                0\n",
      "['f_hardship_type_INTEREST ONLY-3 MONTHS DEFERRAL']\n"
     ]
    }
   ],
   "source": [
    "col = \"f_hardship_type\"\n",
    "for key in dataFrames.keys():\n",
    "    print(key)\n",
    "#     lendingclub_helper.buildOneHotEncodingFeature(dataFrames[key], \"hardship_type\")\n",
    "    cols = [c for c in dataFrames[key].columns if col in c]\n",
    "    print(dataFrames[key][cols].head())\n",
    "print(cols)"
   ]
  },
  {
   "cell_type": "code",
   "execution_count": 51,
   "metadata": {},
   "outputs": [
    {
     "data": {
      "text/plain": [
       "['f_hardship_type_INTEREST ONLY-3 MONTHS DEFERRAL']"
      ]
     },
     "execution_count": 51,
     "metadata": {},
     "output_type": "execute_result"
    }
   ],
   "source": [
    "df = dataFrames[key]\n",
    "[c for c in df.columns if 'f_hardship_type' in c]\n",
    "\n",
    "# for key in dataFrames.keys():\n",
    "#     print(key)\n",
    "#     print(lendingclub_helper.getFeatureColumns(dataFrames[key]).shape)\n"
   ]
  },
  {
   "cell_type": "code",
   "execution_count": 5,
   "metadata": {},
   "outputs": [
    {
     "name": "stdout",
     "output_type": "stream",
     "text": [
      "Getting finished loans for 2007-2011\n",
      "(42535, 236)\n",
      "Getting finished loans for 2012-2013\n",
      "(181326, 236)\n",
      "Getting finished loans for 2014\n",
      "(210765, 236)\n",
      "Getting finished loans for 2015\n",
      "(245635, 236)\n",
      "Getting finished loans for 2016Q1\n",
      "(57531, 236)\n",
      "Getting finished loans for 2016Q2\n",
      "(36764, 236)\n",
      "Getting finished loans for 2016Q3\n",
      "(34214, 236)\n",
      "Getting finished loans for 2016Q4\n",
      "(28809, 236)\n",
      "Getting finished loans for 2017Q1\n",
      "(19286, 236)\n",
      "Getting finished loans for 2017Q2\n",
      "(13916, 236)\n",
      "Getting finished loans for 2017Q3\n",
      "(8986, 236)\n",
      "Getting finished loans for 2017Q4\n",
      "(3871, 236)\n"
     ]
    }
   ],
   "source": [
    "for key in dataFrames.keys():\n",
    "    print(\"Getting finished loans for \" + key)\n",
    "    labelColumns = lendingclub_helper.getLabelColumns(dataFrames[key])\n",
    "    dataFrames[key] = lendingclub_helper.getFinishedLoans(dataFrames[key])\n",
    "    assert(not pandas_helper.columnsHaveNull(dataFrames[key], labelColumns.tolist()))\n",
    "    print(dataFrames[key].shape)\n"
   ]
  },
  {
   "cell_type": "code",
   "execution_count": 18,
   "metadata": {},
   "outputs": [
    {
     "name": "stdout",
     "output_type": "stream",
     "text": [
      "28\n",
      "0.9927667269439421\n"
     ]
    }
   ],
   "source": [
    "key1 = \"2012-2013\"\n",
    "key2 = \"2017Q4\"\n",
    "filename = \"../models/svc_{0}.pkl\".format(key1)\n",
    "clf = scikit_helper.loadModel(filename)\n",
    "df = dataFrames[key2]\n",
    "features = lendingclub_helper.getFeatureColumns(df)\n",
    "labels = lendingclub_helper.getLabelColumns(df)\n",
    "print(getModelAccuracy(clf, df, features, labels))"
   ]
  },
  {
   "cell_type": "code",
   "execution_count": null,
   "metadata": {},
   "outputs": [],
   "source": []
  },
  {
   "cell_type": "code",
   "execution_count": null,
   "metadata": {},
   "outputs": [],
   "source": []
  },
  {
   "cell_type": "code",
   "execution_count": 11,
   "metadata": {},
   "outputs": [],
   "source": [
    "def getModelAccuracy(clf, df, features, labels):\n",
    "    X = df[features].values\n",
    "    y = df[labels[0]].values\n",
    "    y_p = clf.predict(X)\n",
    "    print(sum(y != y_p))\n",
    "\n",
    "    total = sum(y == y_p)\n",
    "    assert(y.shape == y_p.shape)\n",
    "    return total/len(y)\n"
   ]
  },
  {
   "cell_type": "markdown",
   "metadata": {},
   "source": [
    "### Explanation\n",
    "Rows: what model was trained on\n",
    "\n",
    "Columns: which result was used to test\n",
    "\n",
    "Accurary rounded to four decimal places\n",
    "\n",
    "||2007-2011|2012-2013|2014|2015|2016Q1|2016Q2|2016Q3|2016Q4|2017Q1|2017Q2|2017Q3|2017Q4|\n",
    "|----|----|----|----|----|----|----|----|----|----|----|----|----|----|\n",
    "|**2007-2011**|1.0|0.8384|0.8152|0.7474|0.7271|0.7252|0.7464|0.7947|0.8321|0.8594|0.9289|0.9928|\n",
    "|**2012-2013**|0.8488|1.0|0.8152|0.7474|0.7271|0.7252|0.7464|0.7947|0.8321|0.8594|0.9289|0.9928|\n",
    "|**2014**|sooka|sooka|sooka|sooka|sooka|sooka|sooka|sooka|sooka|sooka|sooka|sooka|\n",
    "|**2015**|sooka|sooka|sooka|sooka|sooka|sooka|sooka|sooka|sooka|sooka|sooka|sooka|\n",
    "|**2016Q1**|sooka|sooka|sooka|sooka|sooka|sooka|sooka|sooka|sooka|sooka|sooka|sooka|\n",
    "|**2016Q2**|sooka|sooka|sooka|sooka|sooka|sooka|sooka|sooka|sooka|sooka|sooka|sooka|\n",
    "|**2016Q3**|sooka|sooka|sooka|sooka|sooka|sooka|sooka|sooka|sooka|sooka|sooka|sooka|\n",
    "|**2016Q4**|sooka|sooka|sooka|sooka|sooka|sooka|sooka|sooka|sooka|sooka|sooka|sooka|\n",
    "|**2017Q1**|sooka|sooka|sooka|sooka|sooka|sooka|sooka|sooka|sooka|sooka|sooka|sooka|\n",
    "|**2017Q2**|sooka|sooka|sooka|sooka|sooka|sooka|sooka|sooka|sooka|sooka|sooka|sooka|\n",
    "|**2017Q3**|sooka|sooka|sooka|sooka|sooka|sooka|sooka|sooka|sooka|sooka|sooka|sooka|\n",
    "|**2017Q4**|sooka|sooka|sooka|sooka|sooka|sooka|sooka|sooka|sooka|sooka|sooka|sooka|\n"
   ]
  },
  {
   "cell_type": "code",
   "execution_count": 29,
   "metadata": {},
   "outputs": [],
   "source": [
    "df = pandas_helper.readData(\"sample.csv\")"
   ]
  },
  {
   "cell_type": "code",
   "execution_count": 36,
   "metadata": {},
   "outputs": [],
   "source": [
    "# lendingclub_helper.buildDateFeature(df, \"next_pymnt_d\")\n",
    "# lendingclub_helper.buildOneHotEncodingFeature(df, \"hardship_type\")\n",
    "df[\"temp\"] = pd.to_datetime(df[\"next_pymnt_d\"]).dt.strftime('%b')"
   ]
  },
  {
   "cell_type": "code",
   "execution_count": 31,
   "metadata": {},
   "outputs": [
    {
     "data": {
      "text/plain": [
       "Index(['f_hardship_type_INTEREST ONLY-3 MONTHS DEFERRAL', 'f_hardship_type_hardship_type_NULL'], dtype='object')"
      ]
     },
     "execution_count": 31,
     "metadata": {},
     "output_type": "execute_result"
    }
   ],
   "source": [
    "# l = [c for c in df.columns if \"term\" in c]\n",
    "l = lendingclub_helper.getFeatureColumns(df)\n",
    "l"
   ]
  },
  {
   "cell_type": "code",
   "execution_count": 38,
   "metadata": {},
   "outputs": [
    {
     "data": {
      "text/plain": [
       "0      Mar\n",
       "1      NaT\n",
       "2      Mar\n",
       "3      Mar\n",
       "4      Mar\n",
       "5      Mar\n",
       "6      Mar\n",
       "7      NaT\n",
       "8      NaT\n",
       "9      Mar\n",
       "10     NaT\n",
       "11     Mar\n",
       "12     Mar\n",
       "13     NaT\n",
       "14     NaT\n",
       "15     Mar\n",
       "16     NaT\n",
       "17     NaT\n",
       "18     NaT\n",
       "19     NaT\n",
       "20     Mar\n",
       "21     NaT\n",
       "22     Mar\n",
       "23     NaT\n",
       "24     Mar\n",
       "25     NaT\n",
       "26     NaT\n",
       "27     NaT\n",
       "28     Mar\n",
       "29     Mar\n",
       "      ... \n",
       "970    Mar\n",
       "971    NaT\n",
       "972    NaT\n",
       "973    NaT\n",
       "974    Mar\n",
       "975    NaT\n",
       "976    NaT\n",
       "977    Mar\n",
       "978    NaT\n",
       "979    NaT\n",
       "980    NaT\n",
       "981    Mar\n",
       "982    Mar\n",
       "983    NaT\n",
       "984    Mar\n",
       "985    Mar\n",
       "986    NaT\n",
       "987    Mar\n",
       "988    NaT\n",
       "989    NaT\n",
       "990    NaT\n",
       "991    Mar\n",
       "992    Mar\n",
       "993    Mar\n",
       "994    NaT\n",
       "995    Mar\n",
       "996    Mar\n",
       "997    NaT\n",
       "998    Mar\n",
       "999    Mar\n",
       "Name: temp, Length: 1000, dtype: object"
      ]
     },
     "execution_count": 38,
     "metadata": {},
     "output_type": "execute_result"
    }
   ],
   "source": [
    "# df[\"next_pymnt_d\"]\n",
    "df[\"temp\"].fillna(\"NULL\")\n"
   ]
  },
  {
   "cell_type": "code",
   "execution_count": 83,
   "metadata": {},
   "outputs": [
    {
     "data": {
      "text/plain": [
       "0      NaT\n",
       "1      NaT\n",
       "2      Mar\n",
       "3      Mar\n",
       "4      Mar\n",
       "5      NaT\n",
       "6      NaT\n",
       "7      Mar\n",
       "8      NaT\n",
       "9      Mar\n",
       "10     NaT\n",
       "11     NaT\n",
       "12     Mar\n",
       "13     Mar\n",
       "14     Mar\n",
       "15     Mar\n",
       "16     May\n",
       "17     Mar\n",
       "18     NaT\n",
       "19     NaT\n",
       "20     NaT\n",
       "21     Mar\n",
       "22     Mar\n",
       "23     NaT\n",
       "24     NaT\n",
       "25     Mar\n",
       "26     NaT\n",
       "27     Mar\n",
       "28     NaT\n",
       "29     NaT\n",
       "      ... \n",
       "970    Mar\n",
       "971    Mar\n",
       "972    NaT\n",
       "973    NaT\n",
       "974    Mar\n",
       "975    NaT\n",
       "976    NaT\n",
       "977    NaT\n",
       "978    NaT\n",
       "979    NaT\n",
       "980    Mar\n",
       "981    Mar\n",
       "982    NaT\n",
       "983    NaT\n",
       "984    NaT\n",
       "985    NaT\n",
       "986    NaT\n",
       "987    Mar\n",
       "988    NaT\n",
       "989    NaT\n",
       "990    NaT\n",
       "991    NaT\n",
       "992    NaT\n",
       "993    NaT\n",
       "994    NaT\n",
       "995    Mar\n",
       "996    Mar\n",
       "997    NaT\n",
       "998    Mar\n",
       "999    Mar\n",
       "Name: next_pymnt_d, Length: 1000, dtype: object"
      ]
     },
     "execution_count": 83,
     "metadata": {},
     "output_type": "execute_result"
    }
   ],
   "source": [
    "pd.to_datetime(df[\"next_pymnt_d\"]).dt.strftime('%b')"
   ]
  },
  {
   "cell_type": "code",
   "execution_count": 70,
   "metadata": {},
   "outputs": [
    {
     "data": {
      "text/plain": [
       "numpy.timedelta64(1,'D')"
      ]
     },
     "execution_count": 70,
     "metadata": {},
     "output_type": "execute_result"
    }
   ],
   "source": [
    "now\n",
    "np.timedelta64(1, \"D\")"
   ]
  },
  {
   "cell_type": "code",
   "execution_count": 78,
   "metadata": {},
   "outputs": [
    {
     "data": {
      "text/plain": [
       "0        56.190513\n",
       "1        56.190513\n",
       "2        44.970905\n",
       "3        44.970905\n",
       "4        44.970905\n",
       "5        56.190513\n",
       "6        56.190513\n",
       "7        44.970905\n",
       "8        56.190513\n",
       "9        44.970905\n",
       "10       56.190513\n",
       "11       56.190513\n",
       "12       44.970905\n",
       "13       44.970905\n",
       "14       44.970905\n",
       "15       44.970905\n",
       "16     2905.970905\n",
       "17       44.970905\n",
       "18       56.190513\n",
       "19       56.190513\n",
       "20       56.190513\n",
       "21       44.970905\n",
       "22       44.970905\n",
       "23       56.190513\n",
       "24       56.190513\n",
       "25       44.970905\n",
       "26       56.190513\n",
       "27       44.970905\n",
       "28       56.190513\n",
       "29       56.190513\n",
       "          ...     \n",
       "970      44.970905\n",
       "971      44.970905\n",
       "972      56.190513\n",
       "973      56.190513\n",
       "974      44.970905\n",
       "975      56.190513\n",
       "976      56.190513\n",
       "977      56.190513\n",
       "978      56.190513\n",
       "979      56.190513\n",
       "980      44.970905\n",
       "981      44.970905\n",
       "982      56.190513\n",
       "983      56.190513\n",
       "984      56.190513\n",
       "985      56.190513\n",
       "986      56.190513\n",
       "987      44.970905\n",
       "988      56.190513\n",
       "989      56.190513\n",
       "990      56.190513\n",
       "991      56.190513\n",
       "992      56.190513\n",
       "993      56.190513\n",
       "994      56.190513\n",
       "995      44.970905\n",
       "996      44.970905\n",
       "997      56.190513\n",
       "998      44.970905\n",
       "999      44.970905\n",
       "Name: test, Length: 1000, dtype: float64"
      ]
     },
     "execution_count": 78,
     "metadata": {},
     "output_type": "execute_result"
    }
   ],
   "source": [
    "# pd.to_datetime(df[\"next_pymnt_d\"])\n",
    "# now - pd.to_datetime(df[\"next_pymnt_d\"])\n",
    "df[\"test\"] = (now - pd.to_datetime(df[\"next_pymnt_d\"]))/np.timedelta64(1, \"D\")\n",
    "df[\"test\"].fillna(df[\"test\"].mean())\n"
   ]
  },
  {
   "cell_type": "code",
   "execution_count": null,
   "metadata": {},
   "outputs": [],
   "source": []
  }
 ],
 "metadata": {
  "kernelspec": {
   "display_name": "Python 3",
   "language": "python",
   "name": "python3"
  },
  "language_info": {
   "codemirror_mode": {
    "name": "ipython",
    "version": 3
   },
   "file_extension": ".py",
   "mimetype": "text/x-python",
   "name": "python",
   "nbconvert_exporter": "python",
   "pygments_lexer": "ipython3",
   "version": "3.6.2"
  }
 },
 "nbformat": 4,
 "nbformat_minor": 2
}
