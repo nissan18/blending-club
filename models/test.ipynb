{
 "cells": [
  {
   "cell_type": "code",
   "execution_count": 1,
   "metadata": {},
   "outputs": [],
   "source": [
    "import pandas\n",
    "import numpy as np\n",
    "\n",
    "import columns\n",
    "import helpers\n",
    "\n",
    "\"\"\"\n",
    "TODO:\n",
    "1. remove unfinished loan_status\n",
    "2. use remaining data to test model trained on 1st dataSet\n",
    "3. accuracy CANNOT be 100%\n",
    "4. think of something intelligent\n",
    "\"\"\"\n"
   ]
  },
  {
   "cell_type": "code",
   "execution_count": 2,
   "metadata": {},
   "outputs": [
    {
     "name": "stdout",
     "output_type": "stream",
     "text": [
      "Reading ../data/LoanStats3a_securev1.csv\n",
      "Reading ../data/LoanStats3b_securev1.csv\n",
      "Reading ../data/LoanStats3c_securev1.csv\n",
      "Reading ../data/LoanStats3d_securev1.csv\n",
      "Reading ../data/LoanStats_securev1_2016Q1.csv\n",
      "Reading ../data/LoanStats_securev1_2016Q2.csv\n",
      "Reading ../data/LoanStats_securev1_2016Q3.csv\n",
      "Reading ../data/LoanStats_securev1_2016Q4.csv\n",
      "Reading ../data/LoanStats_securev1_2017Q1.csv\n",
      "Reading ../data/LoanStats_securev1_2017Q2.csv\n",
      "Reading ../data/LoanStats_securev1_2017Q3.csv\n",
      "Reading ../data/LoanStats_securev1_2017Q4.csv\n"
     ]
    }
   ],
   "source": [
    "files = [\n",
    "    '../data/LoanStats3a_securev1.csv',\n",
    "    '../data/LoanStats3b_securev1.csv',\n",
    "    '../data/LoanStats3c_securev1.csv',\n",
    "    '../data/LoanStats3d_securev1.csv',\n",
    "    '../data/LoanStats_securev1_2016Q1.csv',\n",
    "    '../data/LoanStats_securev1_2016Q2.csv',\n",
    "    '../data/LoanStats_securev1_2016Q3.csv',\n",
    "    '../data/LoanStats_securev1_2016Q4.csv',\n",
    "    '../data/LoanStats_securev1_2017Q1.csv',\n",
    "    '../data/LoanStats_securev1_2017Q2.csv',\n",
    "    '../data/LoanStats_securev1_2017Q3.csv',\n",
    "    '../data/LoanStats_securev1_2017Q4.csv'\n",
    "]\n",
    "dataFrames = {}\n",
    "for filename in files:\n",
    "    print(\"Reading \" + filename)\n",
    "    df = pandas.read_csv(filename, dtype=columns.dtypes)\n",
    "    dataFrames[filename] = df\n"
   ]
  },
  {
   "cell_type": "code",
   "execution_count": 3,
   "metadata": {},
   "outputs": [
    {
     "name": "stdout",
     "output_type": "stream",
     "text": [
      "Parsing ../data/LoanStats3a_securev1.csv\n",
      "Parsing ../data/LoanStats3b_securev1.csv\n",
      "Parsing ../data/LoanStats3c_securev1.csv\n",
      "Parsing ../data/LoanStats3d_securev1.csv\n",
      "Parsing ../data/LoanStats_securev1_2016Q1.csv\n",
      "Parsing ../data/LoanStats_securev1_2016Q2.csv\n",
      "Parsing ../data/LoanStats_securev1_2016Q3.csv\n",
      "Parsing ../data/LoanStats_securev1_2016Q4.csv\n",
      "Parsing ../data/LoanStats_securev1_2017Q1.csv\n",
      "Parsing ../data/LoanStats_securev1_2017Q2.csv\n",
      "Parsing ../data/LoanStats_securev1_2017Q3.csv\n",
      "Parsing ../data/LoanStats_securev1_2017Q4.csv\n"
     ]
    }
   ],
   "source": [
    "for key in dataFrames:\n",
    "    print(\"Parsing \" + key)\n",
    "    df = dataFrames[key]\n",
    "    df[\"f_loan_status\"] = df.loan_status.apply(columns.parse_loan_status)"
   ]
  },
  {
   "cell_type": "code",
   "execution_count": 23,
   "metadata": {},
   "outputs": [
    {
     "name": "stdout",
     "output_type": "stream",
     "text": [
      "Trimming ../data/LoanStats3a_securev1.csv\n",
      "Trimming ../data/LoanStats3b_securev1.csv\n",
      "Trimming ../data/LoanStats3c_securev1.csv\n",
      "Trimming ../data/LoanStats3d_securev1.csv\n",
      "Trimming ../data/LoanStats_securev1_2016Q1.csv\n",
      "Trimming ../data/LoanStats_securev1_2016Q2.csv\n",
      "Trimming ../data/LoanStats_securev1_2016Q3.csv\n",
      "Trimming ../data/LoanStats_securev1_2016Q4.csv\n",
      "Trimming ../data/LoanStats_securev1_2017Q1.csv\n",
      "Trimming ../data/LoanStats_securev1_2017Q2.csv\n",
      "Trimming ../data/LoanStats_securev1_2017Q3.csv\n",
      "Trimming ../data/LoanStats_securev1_2017Q4.csv\n"
     ]
    }
   ],
   "source": [
    "trimmed = {}\n",
    "for key in dataFrames:\n",
    "    print(\"Trimming \" + key)\n",
    "    df = dataFrames[key]\n",
    "    trimmed[key] = df.loc[df.f_loan_status.notnull()]\n"
   ]
  },
  {
   "cell_type": "code",
   "execution_count": 24,
   "metadata": {},
   "outputs": [
    {
     "name": "stdout",
     "output_type": "stream",
     "text": [
      "../data/LoanStats3a_securev1.csv\n",
      "(42535, 152)\n",
      "(42535, 152)\n",
      "../data/LoanStats3b_securev1.csv\n",
      "(188181, 152)\n",
      "(181326, 152)\n",
      "../data/LoanStats3c_securev1.csv\n",
      "(235629, 152)\n",
      "(210765, 152)\n",
      "../data/LoanStats3d_securev1.csv\n",
      "(421095, 152)\n",
      "(245635, 152)\n",
      "../data/LoanStats_securev1_2016Q1.csv\n",
      "(133887, 152)\n",
      "(57531, 152)\n",
      "../data/LoanStats_securev1_2016Q2.csv\n",
      "(97854, 152)\n",
      "(36764, 152)\n",
      "../data/LoanStats_securev1_2016Q3.csv\n",
      "(99120, 152)\n",
      "(34214, 152)\n",
      "../data/LoanStats_securev1_2016Q4.csv\n",
      "(103546, 152)\n",
      "(28809, 152)\n",
      "../data/LoanStats_securev1_2017Q1.csv\n",
      "(96779, 152)\n",
      "(19286, 152)\n",
      "../data/LoanStats_securev1_2017Q2.csv\n",
      "(105451, 152)\n",
      "(13916, 152)\n",
      "../data/LoanStats_securev1_2017Q3.csv\n",
      "(122701, 152)\n",
      "(8986, 152)\n",
      "../data/LoanStats_securev1_2017Q4.csv\n",
      "(118648, 152)\n",
      "(3871, 152)\n"
     ]
    }
   ],
   "source": [
    "for key in dataFrames:\n",
    "    print(key)\n",
    "    print(dataFrames[key].shape)\n",
    "    print(trimmed[key].shape)\n"
   ]
  },
  {
   "cell_type": "code",
   "execution_count": 21,
   "metadata": {},
   "outputs": [
    {
     "name": "stdout",
     "output_type": "stream",
     "text": [
      "(42535, 152)\n",
      "(42535, 152)\n",
      "[1 0]\n",
      "['Fully Paid' 'Charged Off'\n",
      " 'Does not meet the credit policy. Status:Fully Paid'\n",
      " 'Does not meet the credit policy. Status:Charged Off']\n",
      "Series([], Name: loan_status, dtype: object)\n"
     ]
    }
   ],
   "source": [
    "file = \"../data/LoanStats3a_securev1.csv\"\n",
    "print(dataFrames[key].shape)\n",
    "print(trimmed[key].shape)\n",
    "\n",
    "df = dataFrames[file]\n",
    "print(df[\"f_loan_status\"].unique())\n",
    "print(df[\"loan_status\"].unique())\n",
    "print(df[~df.f_loan_status.notnull()].loan_status)"
   ]
  },
  {
   "cell_type": "code",
   "execution_count": null,
   "metadata": {},
   "outputs": [],
   "source": []
  },
  {
   "cell_type": "code",
   "execution_count": 24,
   "metadata": {},
   "outputs": [],
   "source": [
    "def getFeatures(df):\n",
    "    numeric_columns = helpers.getNumericColumns(df)\n",
    "    nonnullable_columns = helpers.getNonNullableColumns(df)\n",
    "    numeric_nonnullable_columns = list(set(numeric_columns) & set(nonnullable_columns))\n",
    "    return numeric_nonnullable_columns\n"
   ]
  },
  {
   "cell_type": "code",
   "execution_count": 29,
   "metadata": {},
   "outputs": [],
   "source": [
    "s = set(features[0])"
   ]
  },
  {
   "cell_type": "code",
   "execution_count": 34,
   "metadata": {},
   "outputs": [
    {
     "name": "stdout",
     "output_type": "stream",
     "text": [
      "{'total_pymnt_inv', 'policy_code', 'last_fico_range_high', 'out_prncp_inv', 'installment', 'total_rec_late_fee', 'revol_bal', 'last_fico_range_low', 'funded_amnt', 'total_pymnt', 'recoveries', 'collection_recovery_fee', 'funded_amnt_inv', 'loan_amnt', 'out_prncp', 'total_rec_prncp', 'last_pymnt_amnt', 'total_rec_int', 'fico_range_low', 'id', 'dti', 'fico_range_high'}\n",
      "{'total_pymnt_inv', 'policy_code', 'last_fico_range_high', 'out_prncp_inv', 'installment', 'total_rec_late_fee', 'revol_bal', 'last_fico_range_low', 'funded_amnt', 'total_pymnt', 'recoveries', 'collection_recovery_fee', 'funded_amnt_inv', 'loan_amnt', 'out_prncp', 'total_rec_prncp', 'last_pymnt_amnt', 'total_rec_int', 'fico_range_low', 'id', 'dti', 'fico_range_high'}\n"
     ]
    }
   ],
   "source": [
    "# TODO: show to compare equivalent sets?\n",
    "for t in features:\n",
    "    print(s & set(t))\n",
    "    print(set(t) | s)\n",
    "    break"
   ]
  },
  {
   "cell_type": "code",
   "execution_count": null,
   "metadata": {},
   "outputs": [],
   "source": []
  }
 ],
 "metadata": {
  "kernelspec": {
   "display_name": "Python 3",
   "language": "python",
   "name": "python3"
  },
  "language_info": {
   "codemirror_mode": {
    "name": "ipython",
    "version": 3
   },
   "file_extension": ".py",
   "mimetype": "text/x-python",
   "name": "python",
   "nbconvert_exporter": "python",
   "pygments_lexer": "ipython3",
   "version": "3.6.2"
  }
 },
 "nbformat": 4,
 "nbformat_minor": 2
}
