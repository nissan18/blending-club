{
 "cells": [
  {
   "cell_type": "code",
   "execution_count": 5,
   "metadata": {},
   "outputs": [],
   "source": [
    "import pandas\n",
    "import numpy as np\n",
    "\n",
    "import columns\n",
    "import helpers\n",
    "\n",
    "# TODO: train model on the first dataset (numeric, nonnullable columns) and test on all others\n",
    "# Cannot have accuracy 100% because use Id as a feature"
   ]
  },
  {
   "cell_type": "code",
   "execution_count": 6,
   "metadata": {},
   "outputs": [
    {
     "name": "stdout",
     "output_type": "stream",
     "text": [
      "../data/LoanStats3a_securev1.csv\n",
      "../data/LoanStats3b_securev1.csv\n",
      "../data/LoanStats3c_securev1.csv\n",
      "../data/LoanStats3d_securev1.csv\n",
      "../data/LoanStats_securev1_2016Q1.csv\n",
      "../data/LoanStats_securev1_2016Q2.csv\n",
      "../data/LoanStats_securev1_2016Q3.csv\n",
      "../data/LoanStats_securev1_2016Q4.csv\n",
      "../data/LoanStats_securev1_2017Q1.csv\n",
      "../data/LoanStats_securev1_2017Q2.csv\n",
      "../data/LoanStats_securev1_2017Q3.csv\n",
      "../data/LoanStats_securev1_2017Q4.csv\n"
     ]
    }
   ],
   "source": [
    "files = [\n",
    "    '../data/LoanStats3a_securev1.csv',\n",
    "    '../data/LoanStats3b_securev1.csv',\n",
    "    '../data/LoanStats3c_securev1.csv',\n",
    "    '../data/LoanStats3d_securev1.csv',\n",
    "    '../data/LoanStats_securev1_2016Q1.csv',\n",
    "    '../data/LoanStats_securev1_2016Q2.csv',\n",
    "    '../data/LoanStats_securev1_2016Q3.csv',\n",
    "    '../data/LoanStats_securev1_2016Q4.csv',\n",
    "    '../data/LoanStats_securev1_2017Q1.csv',\n",
    "    '../data/LoanStats_securev1_2017Q2.csv',\n",
    "    '../data/LoanStats_securev1_2017Q3.csv',\n",
    "    '../data/LoanStats_securev1_2017Q4.csv'\n",
    "]\n",
    "dataFrames = []\n",
    "for filename in files:\n",
    "    print(filename)\n",
    "    df = pandas.read_csv(filename, dtype=columns.dtypes)\n",
    "    dataFrames.append(df)\n"
   ]
  },
  {
   "cell_type": "code",
   "execution_count": 25,
   "metadata": {},
   "outputs": [],
   "source": [
    "features = [getFeatures(df) for df in dataFrames]\n"
   ]
  },
  {
   "cell_type": "code",
   "execution_count": 24,
   "metadata": {},
   "outputs": [],
   "source": [
    "def getFeatures(df):\n",
    "    numeric_columns = helpers.getNumericColumns(df)\n",
    "    nonnullable_columns = helpers.getNonNullableColumns(df)\n",
    "    numeric_nonnullable_columns = list(set(numeric_columns) & set(nonnullable_columns))\n",
    "    return numeric_nonnullable_columns\n"
   ]
  },
  {
   "cell_type": "code",
   "execution_count": 29,
   "metadata": {},
   "outputs": [],
   "source": [
    "s = set(features[0])"
   ]
  },
  {
   "cell_type": "code",
   "execution_count": 34,
   "metadata": {},
   "outputs": [
    {
     "name": "stdout",
     "output_type": "stream",
     "text": [
      "{'total_pymnt_inv', 'policy_code', 'last_fico_range_high', 'out_prncp_inv', 'installment', 'total_rec_late_fee', 'revol_bal', 'last_fico_range_low', 'funded_amnt', 'total_pymnt', 'recoveries', 'collection_recovery_fee', 'funded_amnt_inv', 'loan_amnt', 'out_prncp', 'total_rec_prncp', 'last_pymnt_amnt', 'total_rec_int', 'fico_range_low', 'id', 'dti', 'fico_range_high'}\n",
      "{'total_pymnt_inv', 'policy_code', 'last_fico_range_high', 'out_prncp_inv', 'installment', 'total_rec_late_fee', 'revol_bal', 'last_fico_range_low', 'funded_amnt', 'total_pymnt', 'recoveries', 'collection_recovery_fee', 'funded_amnt_inv', 'loan_amnt', 'out_prncp', 'total_rec_prncp', 'last_pymnt_amnt', 'total_rec_int', 'fico_range_low', 'id', 'dti', 'fico_range_high'}\n"
     ]
    }
   ],
   "source": [
    "# TODO: show to compare equivalent sets?\n",
    "for t in features:\n",
    "    print(s & set(t))\n",
    "    print(set(t) | s)\n",
    "    break"
   ]
  },
  {
   "cell_type": "code",
   "execution_count": null,
   "metadata": {},
   "outputs": [],
   "source": []
  }
 ],
 "metadata": {
  "kernelspec": {
   "display_name": "Python 3",
   "language": "python",
   "name": "python3"
  },
  "language_info": {
   "codemirror_mode": {
    "name": "ipython",
    "version": 3
   },
   "file_extension": ".py",
   "mimetype": "text/x-python",
   "name": "python",
   "nbconvert_exporter": "python",
   "pygments_lexer": "ipython3",
   "version": "3.6.2"
  }
 },
 "nbformat": 4,
 "nbformat_minor": 2
}
