{
 "cells": [
  {
   "cell_type": "markdown",
   "metadata": {},
   "source": [
    "# TODO:\n",
    "\n",
    "1. accuracy CANNOT be 100% (even for SVM??)\n",
    "1. study why different dataSets have different hellpers.getFeatures()\n",
    "1. scikit classifier batch predict?\n",
    "1. study performance of models\n",
    "1. remove bad features (e.g. id)\n",
    "1. add remaining good features\n",
    "1. model and train regression models predicting actual return rate\n",
    "1. thinks how to continuously train models (every month, or something like that), productionize?\n",
    "\n"
   ]
  },
  {
   "cell_type": "code",
   "execution_count": 1,
   "metadata": {},
   "outputs": [],
   "source": [
    "import pandas\n",
    "import numpy as np\n",
    "\n",
    "# import columns\n",
    "import definitions\n",
    "import pandas_helper\n",
    "import lendingclub_helper"
   ]
  },
  {
   "cell_type": "code",
   "execution_count": 2,
   "metadata": {},
   "outputs": [
    {
     "name": "stdout",
     "output_type": "stream",
     "text": [
      "{'2007-2011': '../data/LoanStats3a_securev1.csv', '2012-2013': '../data/LoanStats3b_securev1.csv', '2014': '../data/LoanStats3c_securev1.csv', '2015': '../data/LoanStats3d_securev1.csv', '2016Q1': '../data/LoanStats_securev1_2016Q1.csv', '2016Q2': '../data/LoanStats_securev1_2016Q2.csv', '2016Q3': '../data/LoanStats_securev1_2016Q3.csv', '2016Q4': '../data/LoanStats_securev1_2016Q4.csv', '2017Q1': '../data/LoanStats_securev1_2017Q1.csv', '2017Q2': '../data/LoanStats_securev1_2017Q2.csv', '2017Q3': '../data/LoanStats_securev1_2017Q3.csv', '2017Q4': '../data/LoanStats_securev1_2017Q4.csv'}\n"
     ]
    }
   ],
   "source": [
    "print(definitions.dataFiles)"
   ]
  },
  {
   "cell_type": "code",
   "execution_count": 3,
   "metadata": {},
   "outputs": [
    {
     "name": "stdout",
     "output_type": "stream",
     "text": [
      "Loading data for 2007-2011\n",
      "Loading data for 2012-2013\n",
      "Loading data for 2014\n",
      "Loading data for 2015\n",
      "Loading data for 2016Q1\n",
      "Loading data for 2016Q2\n",
      "Loading data for 2016Q3\n",
      "Loading data for 2016Q4\n",
      "Loading data for 2017Q1\n",
      "Loading data for 2017Q2\n",
      "Loading data for 2017Q3\n",
      "Loading data for 2017Q4\n"
     ]
    }
   ],
   "source": [
    "dataFrames = {}\n",
    "for key in definitions.dataFiles:\n",
    "    print(\"Loading data for \" + key)\n",
    "    dataFrames[key] = pandas_helper.readData(definitions.dataFiles[key])"
   ]
  },
  {
   "cell_type": "code",
   "execution_count": null,
   "metadata": {},
   "outputs": [],
   "source": []
  },
  {
   "cell_type": "code",
   "execution_count": 5,
   "metadata": {},
   "outputs": [
    {
     "name": "stdout",
     "output_type": "stream",
     "text": [
      "Building features for 2007-2011\n",
      "Building features for 2012-2013\n",
      "Building features for 2014\n",
      "Building features for 2015\n",
      "Building features for 2016Q1\n",
      "Building features for 2016Q2\n",
      "Building features for 2016Q3\n",
      "Building features for 2016Q4\n",
      "Building features for 2017Q1\n",
      "Building features for 2017Q2\n",
      "Building features for 2017Q3\n",
      "Building features for 2017Q4\n"
     ]
    }
   ],
   "source": [
    "for key in dataFrames.keys():\n",
    "    print(\"Building features for \" + key)\n",
    "    lendingclub_helper.buildFeatures(dataFrames[key])"
   ]
  },
  {
   "cell_type": "code",
   "execution_count": 6,
   "metadata": {},
   "outputs": [
    {
     "name": "stdout",
     "output_type": "stream",
     "text": [
      "2007-2011\n",
      "2012-2013\n",
      "2014\n",
      "2015\n",
      "2016Q1\n",
      "2016Q2\n",
      "2016Q3\n",
      "2016Q4\n",
      "2017Q1\n",
      "2017Q2\n",
      "2017Q3\n",
      "2017Q4\n"
     ]
    }
   ],
   "source": [
    "featureColumns = None\n",
    "for key in dataFrames.keys():\n",
    "    print(key)\n",
    "    if featureColumns is None:\n",
    "        featureColumns = [c for c in dataFrames[key].columns if c.startswith(\"f_\")]\n",
    "    elif set(featureColumns) != set([c for c in dataFrames[key].columns if c.startswith(\"f_\")]):\n",
    "        print(key + \": has different features\")\n",
    "# featureColumns\n"
   ]
  },
  {
   "cell_type": "code",
   "execution_count": 7,
   "metadata": {},
   "outputs": [
    {
     "data": {
      "text/plain": [
       "array([ True,  True,  True,  True,  True,  True,  True,  True,  True,\n",
       "        True,  True,  True,  True,  True,  True,  True,  True,  True,\n",
       "        True,  True,  True,  True,  True,  True,  True,  True,  True,\n",
       "        True,  True,  True,  True,  True,  True,  True,  True,  True,\n",
       "        True,  True,  True,  True,  True,  True,  True,  True,  True,\n",
       "        True,  True,  True,  True,  True,  True,  True,  True,  True,\n",
       "        True,  True,  True,  True,  True,  True,  True,  True,  True,\n",
       "        True,  True,  True,  True,  True,  True,  True,  True,  True,\n",
       "        True,  True,  True,  True,  True,  True,  True,  True,  True,\n",
       "        True,  True,  True])"
      ]
     },
     "execution_count": 7,
     "metadata": {},
     "output_type": "execute_result"
    }
   ],
   "source": [
    "featureColumns == dataFrames[key].columns[dataFrames[key].columns.str.startswith(\"f_\")]\n"
   ]
  },
  {
   "cell_type": "code",
   "execution_count": 8,
   "metadata": {},
   "outputs": [
    {
     "name": "stdout",
     "output_type": "stream",
     "text": [
      "2007-2011\n",
      "2012-2013\n",
      "2014\n",
      "2015\n",
      "2016Q1\n",
      "2016Q2\n",
      "2016Q3\n",
      "2016Q4\n",
      "2017Q1\n",
      "2017Q2\n",
      "2017Q3\n",
      "2017Q4\n"
     ]
    }
   ],
   "source": [
    "for key in dataFrames.keys():\n",
    "    print(key)\n",
    "    if pandas_helper.columnsHaveNull(dataFrames[key], featureColumns):\n",
    "        print(key + \" has NULL columns\")\n",
    "\n"
   ]
  },
  {
   "cell_type": "code",
   "execution_count": 9,
   "metadata": {},
   "outputs": [
    {
     "name": "stdout",
     "output_type": "stream",
     "text": [
      "2007-2011\n",
      "2012-2013\n",
      "2014\n",
      "2015\n",
      "2016Q1\n",
      "2016Q2\n",
      "2016Q3\n",
      "2016Q4\n",
      "2017Q1\n",
      "2017Q2\n",
      "2017Q3\n",
      "2017Q4\n"
     ]
    }
   ],
   "source": [
    "for key in dataFrames.keys():\n",
    "    print(key)\n",
    "    for c in featureColumns:\n",
    "        if pandas_helper.columnHasNull(dataFrames[key], c):\n",
    "            print(c + \" has NULL values\")\n"
   ]
  },
  {
   "cell_type": "code",
   "execution_count": 10,
   "metadata": {},
   "outputs": [
    {
     "name": "stdout",
     "output_type": "stream",
     "text": [
      "2007-2011\n",
      "2012-2013\n",
      "2014\n",
      "2015\n",
      "2016Q1\n",
      "2016Q2\n",
      "2016Q3\n",
      "2016Q4\n",
      "2017Q1\n",
      "2017Q2\n",
      "2017Q3\n",
      "2017Q4\n"
     ]
    }
   ],
   "source": [
    "for key in dataFrames.keys():\n",
    "    print(key)\n",
    "    lendingclub_helper.buildLabels(dataFrames[key])\n",
    "\n"
   ]
  },
  {
   "cell_type": "code",
   "execution_count": 13,
   "metadata": {},
   "outputs": [
    {
     "data": {
      "text/plain": [
       "Index(['l_loan_status'], dtype='object')"
      ]
     },
     "execution_count": 13,
     "metadata": {},
     "output_type": "execute_result"
    }
   ],
   "source": [
    "labelColumns = lendingclub_helper.getLabelColumns(dataFrames[key])\n",
    "labelColumns"
   ]
  },
  {
   "cell_type": "code",
   "execution_count": 15,
   "metadata": {},
   "outputs": [
    {
     "name": "stdout",
     "output_type": "stream",
     "text": [
      "2007-2011\n",
      "2012-2013\n",
      "has NULL labels\n",
      "2014\n",
      "has NULL labels\n",
      "2015\n",
      "has NULL labels\n",
      "2016Q1\n",
      "has NULL labels\n",
      "2016Q2\n",
      "has NULL labels\n",
      "2016Q3\n",
      "has NULL labels\n",
      "2016Q4\n",
      "has NULL labels\n",
      "2017Q1\n",
      "has NULL labels\n",
      "2017Q2\n",
      "has NULL labels\n",
      "2017Q3\n",
      "has NULL labels\n",
      "2017Q4\n",
      "has NULL labels\n"
     ]
    }
   ],
   "source": [
    "for key in dataFrames.keys():\n",
    "    print(key)\n",
    "    if pandas_helper.columnsHaveNull(dataFrames[key], labelColumns.tolist()):\n",
    "        print(\"has NULL labels\")"
   ]
  },
  {
   "cell_type": "code",
   "execution_count": 16,
   "metadata": {},
   "outputs": [
    {
     "name": "stdout",
     "output_type": "stream",
     "text": [
      "2007-2011\n",
      "Shape: (42535, 236)\n",
      "Finished Loans Shape: (42535, 236)\n",
      "2012-2013\n",
      "Shape: (188181, 236)\n",
      "Finished Loans Shape: (181326, 236)\n",
      "2014\n",
      "Shape: (235629, 236)\n",
      "Finished Loans Shape: (210765, 236)\n",
      "2015\n",
      "Shape: (421095, 236)\n",
      "Finished Loans Shape: (245635, 236)\n",
      "2016Q1\n",
      "Shape: (133887, 236)\n",
      "Finished Loans Shape: (57531, 236)\n",
      "2016Q2\n",
      "Shape: (97854, 236)\n",
      "Finished Loans Shape: (36764, 236)\n",
      "2016Q3\n",
      "Shape: (99120, 236)\n",
      "Finished Loans Shape: (34214, 236)\n",
      "2016Q4\n",
      "Shape: (103546, 236)\n",
      "Finished Loans Shape: (28809, 236)\n",
      "2017Q1\n",
      "Shape: (96779, 236)\n",
      "Finished Loans Shape: (19286, 236)\n",
      "2017Q2\n",
      "Shape: (105451, 236)\n",
      "Finished Loans Shape: (13916, 236)\n",
      "2017Q3\n",
      "Shape: (122701, 236)\n",
      "Finished Loans Shape: (8986, 236)\n",
      "2017Q4\n",
      "Shape: (118648, 236)\n",
      "Finished Loans Shape: (3871, 236)\n"
     ]
    }
   ],
   "source": [
    "for key in dataFrames.keys():\n",
    "    print(key)\n",
    "    print(\"Shape: {0}\".format(dataFrames[key].shape))\n",
    "    dataFrames[key] = lendingclub_helper.getFinishedLoans(dataFrames[key])\n",
    "    print(\"Finished Loans Shape: {0}\".format(dataFrames[key].shape))\n"
   ]
  },
  {
   "cell_type": "code",
   "execution_count": 17,
   "metadata": {},
   "outputs": [
    {
     "name": "stdout",
     "output_type": "stream",
     "text": [
      "2007-2011\n",
      "2012-2013\n",
      "2014\n",
      "2015\n",
      "2016Q1\n",
      "2016Q2\n",
      "2016Q3\n",
      "2016Q4\n",
      "2017Q1\n",
      "2017Q2\n",
      "2017Q3\n",
      "2017Q4\n"
     ]
    }
   ],
   "source": [
    "for key in dataFrames.keys():\n",
    "    print(key)\n",
    "    if pandas_helper.columnsHaveNull(dataFrames[key], labelColumns.tolist()):\n",
    "        print(\"has NULL labels\")"
   ]
  },
  {
   "cell_type": "code",
   "execution_count": 33,
   "metadata": {},
   "outputs": [
    {
     "data": {
      "text/plain": [
       "array([1., 0.])"
      ]
     },
     "execution_count": 33,
     "metadata": {},
     "output_type": "execute_result"
    }
   ],
   "source": [
    "df = dataFrames[key]\n",
    "df[featureColumns].values\n",
    "df[labelColumns[0]].unique()"
   ]
  },
  {
   "cell_type": "code",
   "execution_count": 40,
   "metadata": {},
   "outputs": [],
   "source": [
    "X = df[featureColumns].values\n",
    "y = df[labelColumns[0]].values"
   ]
  },
  {
   "cell_type": "code",
   "execution_count": 41,
   "metadata": {},
   "outputs": [
    {
     "data": {
      "text/plain": [
       "(3871, 84)"
      ]
     },
     "execution_count": 41,
     "metadata": {},
     "output_type": "execute_result"
    }
   ],
   "source": [
    "X.shape"
   ]
  },
  {
   "cell_type": "code",
   "execution_count": 43,
   "metadata": {},
   "outputs": [
    {
     "data": {
      "text/plain": [
       "1"
      ]
     },
     "execution_count": 43,
     "metadata": {},
     "output_type": "execute_result"
    }
   ],
   "source": [
    "len(y.shape)"
   ]
  },
  {
   "cell_type": "code",
   "execution_count": 39,
   "metadata": {},
   "outputs": [
    {
     "name": "stderr",
     "output_type": "stream",
     "text": [
      "/Library/Frameworks/Python.framework/Versions/3.6/lib/python3.6/site-packages/sklearn/utils/validation.py:547: DataConversionWarning: A column-vector y was passed when a 1d array was expected. Please change the shape of y to (n_samples, ), for example using ravel().\n",
      "  y = column_or_1d(y, warn=True)\n"
     ]
    },
    {
     "data": {
      "text/plain": [
       "SVC(C=1.0, cache_size=200, class_weight=None, coef0=0.0,\n",
       "  decision_function_shape='ovr', degree=3, gamma='auto', kernel='rbf',\n",
       "  max_iter=-1, probability=False, random_state=None, shrinking=True,\n",
       "  tol=0.001, verbose=False)"
      ]
     },
     "execution_count": 39,
     "metadata": {},
     "output_type": "execute_result"
    }
   ],
   "source": [
    "from sklearn.svm import SVC\n",
    "clf = SVC()\n",
    "clf.fit(X, y)\n"
   ]
  },
  {
   "cell_type": "code",
   "execution_count": null,
   "metadata": {},
   "outputs": [],
   "source": []
  }
 ],
 "metadata": {
  "kernelspec": {
   "display_name": "Python 3",
   "language": "python",
   "name": "python3"
  },
  "language_info": {
   "codemirror_mode": {
    "name": "ipython",
    "version": 3
   },
   "file_extension": ".py",
   "mimetype": "text/x-python",
   "name": "python",
   "nbconvert_exporter": "python",
   "pygments_lexer": "ipython3",
   "version": "3.6.2"
  }
 },
 "nbformat": 4,
 "nbformat_minor": 2
}
