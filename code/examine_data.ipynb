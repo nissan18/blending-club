{
 "cells": [
  {
   "cell_type": "markdown",
   "metadata": {},
   "source": [
    "# TODO:\n",
    "\n",
    "1. accuracy CANNOT be 100% (even for SVM??)\n",
    "1. study performance of models\n",
    "1. remove bad features (e.g. id)\n",
    "1. add remaining good features\n",
    "1. use pandas.get_dummies or scikit OneHotEncoder for one-hot encoding (start with pandas)\n",
    "1. model and train regression models predicting actual return rate\n",
    "1. thinks how to continuously train models (every month, or something like that), productionize?\n",
    "\n"
   ]
  },
  {
   "cell_type": "code",
   "execution_count": 1,
   "metadata": {},
   "outputs": [],
   "source": [
    "import time\n",
    "\n",
    "import definitions\n",
    "import pandas_helper\n",
    "import scikit_helper\n",
    "import lendingclub_helper\n"
   ]
  },
  {
   "cell_type": "code",
   "execution_count": 2,
   "metadata": {},
   "outputs": [
    {
     "name": "stdout",
     "output_type": "stream",
     "text": [
      "Loading data for 2007-2011\n",
      "Loading data for 2012-2013\n",
      "Loading data for 2014\n",
      "Loading data for 2015\n",
      "Loading data for 2016Q1\n",
      "Loading data for 2016Q2\n",
      "Loading data for 2016Q3\n",
      "Loading data for 2016Q4\n",
      "Loading data for 2017Q1\n",
      "Loading data for 2017Q2\n",
      "Loading data for 2017Q3\n",
      "Loading data for 2017Q4\n"
     ]
    }
   ],
   "source": [
    "dataFrames = {}\n",
    "for key in definitions.dataFiles:\n",
    "    print(\"Loading data for \" + key)\n",
    "    dataFrames[key] = pandas_helper.readData(definitions.dataFiles[key])"
   ]
  },
  {
   "cell_type": "code",
   "execution_count": 3,
   "metadata": {},
   "outputs": [
    {
     "name": "stdout",
     "output_type": "stream",
     "text": [
      "Building features for 2007-2011\n",
      "Building features for 2012-2013\n",
      "Building features for 2014\n",
      "Building features for 2015\n",
      "Building features for 2016Q1\n",
      "Building features for 2016Q2\n",
      "Building features for 2016Q3\n",
      "Building features for 2016Q4\n",
      "Building features for 2017Q1\n",
      "Building features for 2017Q2\n",
      "Building features for 2017Q3\n",
      "Building features for 2017Q4\n"
     ]
    }
   ],
   "source": [
    "for key in dataFrames.keys():\n",
    "    print(\"Building features for \" + key)\n",
    "    lendingclub_helper.buildFeatures(dataFrames[key])\n",
    "    featureColumns = lendingclub_helper.getFeatureColumns(dataFrames[key])\n",
    "    assert(not pandas_helper.columnsHaveNull(dataFrames[key], featureColumns.tolist()))"
   ]
  },
  {
   "cell_type": "code",
   "execution_count": 4,
   "metadata": {},
   "outputs": [
    {
     "name": "stdout",
     "output_type": "stream",
     "text": [
      "Building labels for 2007-2011\n",
      "(42535, 1192)\n",
      "Building labels for 2012-2013\n",
      "(188181, 1193)\n",
      "Building labels for 2014\n",
      "(235629, 1219)\n",
      "Building labels for 2015\n",
      "(421095, 1269)\n",
      "Building labels for 2016Q1\n",
      "(133887, 1244)\n",
      "Building labels for 2016Q2\n",
      "(97854, 1228)\n",
      "Building labels for 2016Q3\n",
      "(99120, 1228)\n",
      "Building labels for 2016Q4\n",
      "(103546, 1222)\n",
      "Building labels for 2017Q1\n",
      "(96779, 1216)\n",
      "Building labels for 2017Q2\n",
      "(105451, 1206)\n",
      "Building labels for 2017Q3\n",
      "(122701, 1211)\n",
      "Building labels for 2017Q4\n",
      "(118648, 1239)\n"
     ]
    }
   ],
   "source": [
    "for key in dataFrames.keys():\n",
    "    print(\"Building labels for \" + key)\n",
    "    lendingclub_helper.buildLabels(dataFrames[key])\n",
    "    print(dataFrames[key].shape)"
   ]
  },
  {
   "cell_type": "code",
   "execution_count": 41,
   "metadata": {},
   "outputs": [
    {
     "name": "stdout",
     "output_type": "stream",
     "text": [
      "2007-2011\n",
      "(1,)\n",
      "2012-2013\n",
      "(2,)\n",
      "2014\n",
      "(2,)\n",
      "2015\n",
      "(2,)\n",
      "2016Q1\n",
      "(2,)\n",
      "2016Q2\n",
      "(2,)\n",
      "2016Q3\n",
      "(2,)\n",
      "2016Q4\n",
      "(2,)\n",
      "2017Q1\n",
      "(2,)\n",
      "2017Q2\n",
      "(2,)\n",
      "2017Q3\n",
      "(2,)\n",
      "2017Q4\n",
      "(2,)\n",
      "{nan, 'INTEREST ONLY-3 MONTHS DEFERRAL'}\n"
     ]
    }
   ],
   "source": [
    "col = \"hardship_type\"\n",
    "all_values = []\n",
    "for key in dataFrames.keys():\n",
    "    print(key)\n",
    "#     print(col in dataFrames[key].columns)\n",
    "#     print(dataFrames[key][col].describe())\n",
    "#     print(dataFrames[key][col].unique())\n",
    "    print(dataFrames[key][col].unique().shape)\n",
    "    all_values += list(dataFrames[key][col].unique())\n",
    "\n",
    "print(set(all_values))\n"
   ]
  },
  {
   "cell_type": "code",
   "execution_count": 20,
   "metadata": {},
   "outputs": [
    {
     "data": {
      "text/plain": [
       "count     0\n",
       "unique    0\n",
       "Name: sec_app_earliest_cr_line, dtype: int64"
      ]
     },
     "execution_count": 20,
     "metadata": {},
     "output_type": "execute_result"
    }
   ],
   "source": [
    "dataFrames[\"2015\"][\"sec_app_earliest_cr_line\"].describe()"
   ]
  },
  {
   "cell_type": "code",
   "execution_count": 48,
   "metadata": {},
   "outputs": [
    {
     "name": "stdout",
     "output_type": "stream",
     "text": [
      "2007-2011\n",
      "Empty DataFrame\n",
      "Columns: []\n",
      "Index: [0, 1, 2, 3, 4]\n",
      "2012-2013\n",
      "   f_hardship_type_INTEREST ONLY-3 MONTHS DEFERRAL\n",
      "0                                                0\n",
      "1                                                0\n",
      "2                                                0\n",
      "3                                                0\n",
      "4                                                0\n",
      "2014\n",
      "   f_hardship_type_INTEREST ONLY-3 MONTHS DEFERRAL\n",
      "0                                                0\n",
      "1                                                0\n",
      "2                                                0\n",
      "3                                                0\n",
      "4                                                0\n",
      "2015\n",
      "   f_hardship_type_INTEREST ONLY-3 MONTHS DEFERRAL\n",
      "0                                                0\n",
      "1                                                0\n",
      "2                                                0\n",
      "3                                                0\n",
      "4                                                0\n",
      "2016Q1\n",
      "   f_hardship_type_INTEREST ONLY-3 MONTHS DEFERRAL\n",
      "0                                                0\n",
      "1                                                0\n",
      "2                                                0\n",
      "3                                                0\n",
      "4                                                0\n",
      "2016Q2\n",
      "   f_hardship_type_INTEREST ONLY-3 MONTHS DEFERRAL\n",
      "0                                                0\n",
      "1                                                0\n",
      "2                                                0\n",
      "3                                                0\n",
      "4                                                0\n",
      "2016Q3\n",
      "   f_hardship_type_INTEREST ONLY-3 MONTHS DEFERRAL\n",
      "0                                                0\n",
      "1                                                0\n",
      "2                                                0\n",
      "3                                                0\n",
      "4                                                0\n",
      "2016Q4\n",
      "   f_hardship_type_INTEREST ONLY-3 MONTHS DEFERRAL\n",
      "0                                                0\n",
      "1                                                0\n",
      "2                                                0\n",
      "3                                                0\n",
      "4                                                0\n",
      "2017Q1\n",
      "   f_hardship_type_INTEREST ONLY-3 MONTHS DEFERRAL\n",
      "0                                                0\n",
      "1                                                0\n",
      "2                                                0\n",
      "3                                                0\n",
      "4                                                0\n",
      "2017Q2\n",
      "   f_hardship_type_INTEREST ONLY-3 MONTHS DEFERRAL\n",
      "0                                                0\n",
      "1                                                0\n",
      "2                                                0\n",
      "3                                                0\n",
      "4                                                0\n",
      "2017Q3\n",
      "   f_hardship_type_INTEREST ONLY-3 MONTHS DEFERRAL\n",
      "0                                                0\n",
      "1                                                0\n",
      "2                                                0\n",
      "3                                                0\n",
      "4                                                0\n",
      "2017Q4\n",
      "   f_hardship_type_INTEREST ONLY-3 MONTHS DEFERRAL\n",
      "0                                                0\n",
      "1                                                0\n",
      "2                                                0\n",
      "3                                                0\n",
      "4                                                0\n",
      "['f_hardship_type_INTEREST ONLY-3 MONTHS DEFERRAL']\n"
     ]
    }
   ],
   "source": [
    "col = \"f_hardship_type\"\n",
    "for key in dataFrames.keys():\n",
    "    print(key)\n",
    "#     lendingclub_helper.buildOneHotEncodingFeature(dataFrames[key], \"hardship_type\")\n",
    "    cols = [c for c in dataFrames[key].columns if col in c]\n",
    "    print(dataFrames[key][cols].head())\n",
    "print(cols)"
   ]
  },
  {
   "cell_type": "code",
   "execution_count": 51,
   "metadata": {},
   "outputs": [
    {
     "data": {
      "text/plain": [
       "['f_hardship_type_INTEREST ONLY-3 MONTHS DEFERRAL']"
      ]
     },
     "execution_count": 51,
     "metadata": {},
     "output_type": "execute_result"
    }
   ],
   "source": [
    "df = dataFrames[key]\n",
    "[c for c in df.columns if 'f_hardship_type' in c]\n",
    "\n",
    "# for key in dataFrames.keys():\n",
    "#     print(key)\n",
    "#     print(lendingclub_helper.getFeatureColumns(dataFrames[key]).shape)\n"
   ]
  },
  {
   "cell_type": "code",
   "execution_count": 5,
   "metadata": {},
   "outputs": [
    {
     "name": "stdout",
     "output_type": "stream",
     "text": [
      "Getting finished loans for 2007-2011\n",
      "(42535, 236)\n",
      "Getting finished loans for 2012-2013\n",
      "(181326, 236)\n",
      "Getting finished loans for 2014\n",
      "(210765, 236)\n",
      "Getting finished loans for 2015\n",
      "(245635, 236)\n",
      "Getting finished loans for 2016Q1\n",
      "(57531, 236)\n",
      "Getting finished loans for 2016Q2\n",
      "(36764, 236)\n",
      "Getting finished loans for 2016Q3\n",
      "(34214, 236)\n",
      "Getting finished loans for 2016Q4\n",
      "(28809, 236)\n",
      "Getting finished loans for 2017Q1\n",
      "(19286, 236)\n",
      "Getting finished loans for 2017Q2\n",
      "(13916, 236)\n",
      "Getting finished loans for 2017Q3\n",
      "(8986, 236)\n",
      "Getting finished loans for 2017Q4\n",
      "(3871, 236)\n"
     ]
    }
   ],
   "source": [
    "for key in dataFrames.keys():\n",
    "    print(\"Getting finished loans for \" + key)\n",
    "    labelColumns = lendingclub_helper.getLabelColumns(dataFrames[key])\n",
    "    dataFrames[key] = lendingclub_helper.getFinishedLoans(dataFrames[key])\n",
    "    assert(not pandas_helper.columnsHaveNull(dataFrames[key], labelColumns.tolist()))\n",
    "    print(dataFrames[key].shape)\n"
   ]
  },
  {
   "cell_type": "code",
   "execution_count": 18,
   "metadata": {},
   "outputs": [
    {
     "name": "stdout",
     "output_type": "stream",
     "text": [
      "28\n",
      "0.9927667269439421\n"
     ]
    }
   ],
   "source": [
    "key1 = \"2012-2013\"\n",
    "key2 = \"2017Q4\"\n",
    "filename = \"../models/svc_{0}.pkl\".format(key1)\n",
    "clf = scikit_helper.loadModel(filename)\n",
    "df = dataFrames[key2]\n",
    "features = lendingclub_helper.getFeatureColumns(df)\n",
    "labels = lendingclub_helper.getLabelColumns(df)\n",
    "print(getModelAccuracy(clf, df, features, labels))"
   ]
  },
  {
   "cell_type": "code",
   "execution_count": null,
   "metadata": {},
   "outputs": [],
   "source": []
  },
  {
   "cell_type": "code",
   "execution_count": null,
   "metadata": {},
   "outputs": [],
   "source": []
  },
  {
   "cell_type": "code",
   "execution_count": 11,
   "metadata": {},
   "outputs": [],
   "source": [
    "def getModelAccuracy(clf, df, features, labels):\n",
    "    X = df[features].values\n",
    "    y = df[labels[0]].values\n",
    "    y_p = clf.predict(X)\n",
    "    print(sum(y != y_p))\n",
    "\n",
    "    total = sum(y == y_p)\n",
    "    assert(y.shape == y_p.shape)\n",
    "    return total/len(y)\n"
   ]
  },
  {
   "cell_type": "markdown",
   "metadata": {},
   "source": [
    "### Explanation\n",
    "Rows: what model was trained on\n",
    "\n",
    "Columns: which result was used to test\n",
    "\n",
    "Accurary rounded to four decimal places\n",
    "\n",
    "||2007-2011|2012-2013|2014|2015|2016Q1|2016Q2|2016Q3|2016Q4|2017Q1|2017Q2|2017Q3|2017Q4|\n",
    "|----|----|----|----|----|----|----|----|----|----|----|----|----|----|\n",
    "|**2007-2011**|1.0|0.8384|0.8152|0.7474|0.7271|0.7252|0.7464|0.7947|0.8321|0.8594|0.9289|0.9928|\n",
    "|**2012-2013**|0.8488|1.0|0.8152|0.7474|0.7271|0.7252|0.7464|0.7947|0.8321|0.8594|0.9289|0.9928|\n",
    "|**2014**|sooka|sooka|sooka|sooka|sooka|sooka|sooka|sooka|sooka|sooka|sooka|sooka|\n",
    "|**2015**|sooka|sooka|sooka|sooka|sooka|sooka|sooka|sooka|sooka|sooka|sooka|sooka|\n",
    "|**2016Q1**|sooka|sooka|sooka|sooka|sooka|sooka|sooka|sooka|sooka|sooka|sooka|sooka|\n",
    "|**2016Q2**|sooka|sooka|sooka|sooka|sooka|sooka|sooka|sooka|sooka|sooka|sooka|sooka|\n",
    "|**2016Q3**|sooka|sooka|sooka|sooka|sooka|sooka|sooka|sooka|sooka|sooka|sooka|sooka|\n",
    "|**2016Q4**|sooka|sooka|sooka|sooka|sooka|sooka|sooka|sooka|sooka|sooka|sooka|sooka|\n",
    "|**2017Q1**|sooka|sooka|sooka|sooka|sooka|sooka|sooka|sooka|sooka|sooka|sooka|sooka|\n",
    "|**2017Q2**|sooka|sooka|sooka|sooka|sooka|sooka|sooka|sooka|sooka|sooka|sooka|sooka|\n",
    "|**2017Q3**|sooka|sooka|sooka|sooka|sooka|sooka|sooka|sooka|sooka|sooka|sooka|sooka|\n",
    "|**2017Q4**|sooka|sooka|sooka|sooka|sooka|sooka|sooka|sooka|sooka|sooka|sooka|sooka|\n"
   ]
  },
  {
   "cell_type": "code",
   "execution_count": null,
   "metadata": {},
   "outputs": [],
   "source": []
  }
 ],
 "metadata": {
  "kernelspec": {
   "display_name": "Python 3",
   "language": "python",
   "name": "python3"
  },
  "language_info": {
   "codemirror_mode": {
    "name": "ipython",
    "version": 3
   },
   "file_extension": ".py",
   "mimetype": "text/x-python",
   "name": "python",
   "nbconvert_exporter": "python",
   "pygments_lexer": "ipython3",
   "version": "3.6.2"
  }
 },
 "nbformat": 4,
 "nbformat_minor": 2
}
