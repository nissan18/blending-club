{
 "cells": [
  {
   "cell_type": "code",
   "execution_count": 1,
   "metadata": {},
   "outputs": [],
   "source": [
    "import pandas_helper\n",
    "import lendingclub_helper\n",
    "import scikit_helper\n",
    "import sklearn as sk\n",
    "import numpy as np\n",
    "import pandas as pd"
   ]
  },
  {
   "cell_type": "code",
   "execution_count": 2,
   "metadata": {},
   "outputs": [
    {
     "data": {
      "text/html": [
       "<div>\n",
       "<style scoped>\n",
       "    .dataframe tbody tr th:only-of-type {\n",
       "        vertical-align: middle;\n",
       "    }\n",
       "\n",
       "    .dataframe tbody tr th {\n",
       "        vertical-align: top;\n",
       "    }\n",
       "\n",
       "    .dataframe thead th {\n",
       "        text-align: right;\n",
       "    }\n",
       "</style>\n",
       "<table border=\"1\" class=\"dataframe\">\n",
       "  <thead>\n",
       "    <tr style=\"text-align: right;\">\n",
       "      <th></th>\n",
       "      <th>id</th>\n",
       "      <th>member_id</th>\n",
       "      <th>loan_amnt</th>\n",
       "      <th>funded_amnt</th>\n",
       "      <th>funded_amnt_inv</th>\n",
       "      <th>installment</th>\n",
       "      <th>annual_inc</th>\n",
       "      <th>dti</th>\n",
       "      <th>delinq_2yrs</th>\n",
       "      <th>fico_range_low</th>\n",
       "      <th>...</th>\n",
       "      <th>deferral_term</th>\n",
       "      <th>hardship_amount</th>\n",
       "      <th>hardship_length</th>\n",
       "      <th>hardship_dpd</th>\n",
       "      <th>orig_projected_additional_accrued_interest</th>\n",
       "      <th>hardship_payoff_balance_amount</th>\n",
       "      <th>hardship_last_payment_amount</th>\n",
       "      <th>settlement_amount</th>\n",
       "      <th>settlement_percentage</th>\n",
       "      <th>settlement_term</th>\n",
       "    </tr>\n",
       "  </thead>\n",
       "  <tbody>\n",
       "    <tr>\n",
       "      <th>count</th>\n",
       "      <td>1.000000e+03</td>\n",
       "      <td>0.0</td>\n",
       "      <td>1000.000000</td>\n",
       "      <td>1000.000000</td>\n",
       "      <td>1000.000000</td>\n",
       "      <td>1000.000000</td>\n",
       "      <td>1000.000000</td>\n",
       "      <td>1000.000000</td>\n",
       "      <td>1000.000000</td>\n",
       "      <td>1000.000000</td>\n",
       "      <td>...</td>\n",
       "      <td>0.0</td>\n",
       "      <td>0.0</td>\n",
       "      <td>0.0</td>\n",
       "      <td>0.0</td>\n",
       "      <td>0.0</td>\n",
       "      <td>0.0</td>\n",
       "      <td>0.0</td>\n",
       "      <td>21.000000</td>\n",
       "      <td>21.000000</td>\n",
       "      <td>21.000000</td>\n",
       "    </tr>\n",
       "    <tr>\n",
       "      <th>mean</th>\n",
       "      <td>3.997987e+07</td>\n",
       "      <td>NaN</td>\n",
       "      <td>14764.550000</td>\n",
       "      <td>14748.300000</td>\n",
       "      <td>14699.039029</td>\n",
       "      <td>452.296850</td>\n",
       "      <td>77917.934470</td>\n",
       "      <td>17.614940</td>\n",
       "      <td>0.300000</td>\n",
       "      <td>696.560000</td>\n",
       "      <td>...</td>\n",
       "      <td>NaN</td>\n",
       "      <td>NaN</td>\n",
       "      <td>NaN</td>\n",
       "      <td>NaN</td>\n",
       "      <td>NaN</td>\n",
       "      <td>NaN</td>\n",
       "      <td>NaN</td>\n",
       "      <td>5361.642857</td>\n",
       "      <td>47.245714</td>\n",
       "      <td>13.285714</td>\n",
       "    </tr>\n",
       "    <tr>\n",
       "      <th>std</th>\n",
       "      <td>3.253072e+07</td>\n",
       "      <td>NaN</td>\n",
       "      <td>8566.801453</td>\n",
       "      <td>8570.828867</td>\n",
       "      <td>8584.553123</td>\n",
       "      <td>265.259847</td>\n",
       "      <td>59750.445198</td>\n",
       "      <td>8.276416</td>\n",
       "      <td>0.843037</td>\n",
       "      <td>32.272402</td>\n",
       "      <td>...</td>\n",
       "      <td>NaN</td>\n",
       "      <td>NaN</td>\n",
       "      <td>NaN</td>\n",
       "      <td>NaN</td>\n",
       "      <td>NaN</td>\n",
       "      <td>NaN</td>\n",
       "      <td>NaN</td>\n",
       "      <td>2803.349960</td>\n",
       "      <td>5.822807</td>\n",
       "      <td>8.538986</td>\n",
       "    </tr>\n",
       "    <tr>\n",
       "      <th>min</th>\n",
       "      <td>1.798970e+05</td>\n",
       "      <td>NaN</td>\n",
       "      <td>1000.000000</td>\n",
       "      <td>1000.000000</td>\n",
       "      <td>0.000000</td>\n",
       "      <td>33.210000</td>\n",
       "      <td>10000.000000</td>\n",
       "      <td>0.030000</td>\n",
       "      <td>0.000000</td>\n",
       "      <td>660.000000</td>\n",
       "      <td>...</td>\n",
       "      <td>NaN</td>\n",
       "      <td>NaN</td>\n",
       "      <td>NaN</td>\n",
       "      <td>NaN</td>\n",
       "      <td>NaN</td>\n",
       "      <td>NaN</td>\n",
       "      <td>NaN</td>\n",
       "      <td>891.000000</td>\n",
       "      <td>30.000000</td>\n",
       "      <td>0.000000</td>\n",
       "    </tr>\n",
       "    <tr>\n",
       "      <th>25%</th>\n",
       "      <td>8.999260e+06</td>\n",
       "      <td>NaN</td>\n",
       "      <td>8000.000000</td>\n",
       "      <td>8000.000000</td>\n",
       "      <td>8000.000000</td>\n",
       "      <td>254.675000</td>\n",
       "      <td>46000.000000</td>\n",
       "      <td>11.580000</td>\n",
       "      <td>0.000000</td>\n",
       "      <td>670.000000</td>\n",
       "      <td>...</td>\n",
       "      <td>NaN</td>\n",
       "      <td>NaN</td>\n",
       "      <td>NaN</td>\n",
       "      <td>NaN</td>\n",
       "      <td>NaN</td>\n",
       "      <td>NaN</td>\n",
       "      <td>NaN</td>\n",
       "      <td>3505.000000</td>\n",
       "      <td>45.000000</td>\n",
       "      <td>6.000000</td>\n",
       "    </tr>\n",
       "    <tr>\n",
       "      <th>50%</th>\n",
       "      <td>3.540877e+07</td>\n",
       "      <td>NaN</td>\n",
       "      <td>13875.000000</td>\n",
       "      <td>13875.000000</td>\n",
       "      <td>13812.500000</td>\n",
       "      <td>389.460000</td>\n",
       "      <td>65000.000000</td>\n",
       "      <td>16.900000</td>\n",
       "      <td>0.000000</td>\n",
       "      <td>690.000000</td>\n",
       "      <td>...</td>\n",
       "      <td>NaN</td>\n",
       "      <td>NaN</td>\n",
       "      <td>NaN</td>\n",
       "      <td>NaN</td>\n",
       "      <td>NaN</td>\n",
       "      <td>NaN</td>\n",
       "      <td>NaN</td>\n",
       "      <td>5931.230000</td>\n",
       "      <td>45.000000</td>\n",
       "      <td>18.000000</td>\n",
       "    </tr>\n",
       "    <tr>\n",
       "      <th>75%</th>\n",
       "      <td>6.636608e+07</td>\n",
       "      <td>NaN</td>\n",
       "      <td>20000.000000</td>\n",
       "      <td>20000.000000</td>\n",
       "      <td>20000.000000</td>\n",
       "      <td>592.882500</td>\n",
       "      <td>93000.000000</td>\n",
       "      <td>22.917500</td>\n",
       "      <td>0.000000</td>\n",
       "      <td>711.250000</td>\n",
       "      <td>...</td>\n",
       "      <td>NaN</td>\n",
       "      <td>NaN</td>\n",
       "      <td>NaN</td>\n",
       "      <td>NaN</td>\n",
       "      <td>NaN</td>\n",
       "      <td>NaN</td>\n",
       "      <td>NaN</td>\n",
       "      <td>7537.720000</td>\n",
       "      <td>50.000000</td>\n",
       "      <td>18.000000</td>\n",
       "    </tr>\n",
       "    <tr>\n",
       "      <th>max</th>\n",
       "      <td>1.226793e+08</td>\n",
       "      <td>NaN</td>\n",
       "      <td>40000.000000</td>\n",
       "      <td>40000.000000</td>\n",
       "      <td>40000.000000</td>\n",
       "      <td>1347.570000</td>\n",
       "      <td>980000.000000</td>\n",
       "      <td>45.160000</td>\n",
       "      <td>12.000000</td>\n",
       "      <td>845.000000</td>\n",
       "      <td>...</td>\n",
       "      <td>NaN</td>\n",
       "      <td>NaN</td>\n",
       "      <td>NaN</td>\n",
       "      <td>NaN</td>\n",
       "      <td>NaN</td>\n",
       "      <td>NaN</td>\n",
       "      <td>NaN</td>\n",
       "      <td>9842.000000</td>\n",
       "      <td>60.000000</td>\n",
       "      <td>24.000000</td>\n",
       "    </tr>\n",
       "  </tbody>\n",
       "</table>\n",
       "<p>8 rows × 112 columns</p>\n",
       "</div>"
      ],
      "text/plain": [
       "                 id  member_id     loan_amnt   funded_amnt  funded_amnt_inv  \\\n",
       "count  1.000000e+03        0.0   1000.000000   1000.000000      1000.000000   \n",
       "mean   3.997987e+07        NaN  14764.550000  14748.300000     14699.039029   \n",
       "std    3.253072e+07        NaN   8566.801453   8570.828867      8584.553123   \n",
       "min    1.798970e+05        NaN   1000.000000   1000.000000         0.000000   \n",
       "25%    8.999260e+06        NaN   8000.000000   8000.000000      8000.000000   \n",
       "50%    3.540877e+07        NaN  13875.000000  13875.000000     13812.500000   \n",
       "75%    6.636608e+07        NaN  20000.000000  20000.000000     20000.000000   \n",
       "max    1.226793e+08        NaN  40000.000000  40000.000000     40000.000000   \n",
       "\n",
       "       installment     annual_inc          dti  delinq_2yrs  fico_range_low  \\\n",
       "count  1000.000000    1000.000000  1000.000000  1000.000000     1000.000000   \n",
       "mean    452.296850   77917.934470    17.614940     0.300000      696.560000   \n",
       "std     265.259847   59750.445198     8.276416     0.843037       32.272402   \n",
       "min      33.210000   10000.000000     0.030000     0.000000      660.000000   \n",
       "25%     254.675000   46000.000000    11.580000     0.000000      670.000000   \n",
       "50%     389.460000   65000.000000    16.900000     0.000000      690.000000   \n",
       "75%     592.882500   93000.000000    22.917500     0.000000      711.250000   \n",
       "max    1347.570000  980000.000000    45.160000    12.000000      845.000000   \n",
       "\n",
       "            ...         deferral_term  hardship_amount  hardship_length  \\\n",
       "count       ...                   0.0              0.0              0.0   \n",
       "mean        ...                   NaN              NaN              NaN   \n",
       "std         ...                   NaN              NaN              NaN   \n",
       "min         ...                   NaN              NaN              NaN   \n",
       "25%         ...                   NaN              NaN              NaN   \n",
       "50%         ...                   NaN              NaN              NaN   \n",
       "75%         ...                   NaN              NaN              NaN   \n",
       "max         ...                   NaN              NaN              NaN   \n",
       "\n",
       "       hardship_dpd  orig_projected_additional_accrued_interest  \\\n",
       "count           0.0                                         0.0   \n",
       "mean            NaN                                         NaN   \n",
       "std             NaN                                         NaN   \n",
       "min             NaN                                         NaN   \n",
       "25%             NaN                                         NaN   \n",
       "50%             NaN                                         NaN   \n",
       "75%             NaN                                         NaN   \n",
       "max             NaN                                         NaN   \n",
       "\n",
       "       hardship_payoff_balance_amount  hardship_last_payment_amount  \\\n",
       "count                             0.0                           0.0   \n",
       "mean                              NaN                           NaN   \n",
       "std                               NaN                           NaN   \n",
       "min                               NaN                           NaN   \n",
       "25%                               NaN                           NaN   \n",
       "50%                               NaN                           NaN   \n",
       "75%                               NaN                           NaN   \n",
       "max                               NaN                           NaN   \n",
       "\n",
       "       settlement_amount  settlement_percentage  settlement_term  \n",
       "count          21.000000              21.000000        21.000000  \n",
       "mean         5361.642857              47.245714        13.285714  \n",
       "std          2803.349960               5.822807         8.538986  \n",
       "min           891.000000              30.000000         0.000000  \n",
       "25%          3505.000000              45.000000         6.000000  \n",
       "50%          5931.230000              45.000000        18.000000  \n",
       "75%          7537.720000              50.000000        18.000000  \n",
       "max          9842.000000              60.000000        24.000000  \n",
       "\n",
       "[8 rows x 112 columns]"
      ]
     },
     "execution_count": 2,
     "metadata": {},
     "output_type": "execute_result"
    }
   ],
   "source": [
    "train_data_file = \"finished_train_sample.csv\"\n",
    "df = pandas_helper.readData(train_data_file, lendingclub_helper.dtypes)\n",
    "df.describe()"
   ]
  },
  {
   "cell_type": "code",
   "execution_count": 24,
   "metadata": {},
   "outputs": [],
   "source": [
    "lendingclub_helper.buildDateFeature(df, \"hardship_start_date\")"
   ]
  },
  {
   "cell_type": "code",
   "execution_count": 25,
   "metadata": {},
   "outputs": [
    {
     "data": {
      "text/plain": [
       "Index(['f_hardship_start_date_diff', 'f_hardship_start_date_month_NaT',\n",
       "       'f_hardship_start_date_month_NULL'],\n",
       "      dtype='object')"
      ]
     },
     "execution_count": 25,
     "metadata": {},
     "output_type": "execute_result"
    }
   ],
   "source": [
    "feature_columns = lendingclub_helper.getFeatureColumns(df)\n",
    "feature_columns"
   ]
  },
  {
   "cell_type": "code",
   "execution_count": null,
   "metadata": {},
   "outputs": [],
   "source": []
  },
  {
   "cell_type": "code",
   "execution_count": 22,
   "metadata": {},
   "outputs": [],
   "source": [
    "col = \"hardship_start_date\"\n",
    "month_col = col + \"_month\"  # create temporary column to parse month name\n",
    "df[month_col] = pd.to_datetime(df[col]).dt.strftime('%b')\n",
    "# df[month_col] = pd.to_datetime(df[col]).dt.strftime('%b').str.replace('NaT', \"NULL\")\n",
    "lendingclub_helper.buildOneHotEncodingFeature(df, month_col)\n",
    "# df.drop(month_col, axis=1, inplace=True)  # drop temporary column\n",
    "\n"
   ]
  },
  {
   "cell_type": "code",
   "execution_count": 20,
   "metadata": {},
   "outputs": [],
   "source": [
    "df.drop(\"f_hardship_start_date_month_NULL\", axis=1, inplace=True)"
   ]
  },
  {
   "cell_type": "code",
   "execution_count": 50,
   "metadata": {},
   "outputs": [
    {
     "data": {
      "text/plain": [
       "NaT"
      ]
     },
     "execution_count": 50,
     "metadata": {},
     "output_type": "execute_result"
    }
   ],
   "source": [
    "v = df[col][0]\n",
    "pd.to_datetime(v)\n",
    "# pd.to_datetime(df[col]).dt.strftime('%b')\n"
   ]
  },
  {
   "cell_type": "code",
   "execution_count": 49,
   "metadata": {},
   "outputs": [
    {
     "data": {
      "text/plain": [
       "float"
      ]
     },
     "execution_count": 49,
     "metadata": {},
     "output_type": "execute_result"
    }
   ],
   "source": [
    "\n"
   ]
  },
  {
   "cell_type": "code",
   "execution_count": 22,
   "metadata": {},
   "outputs": [
    {
     "name": "stdout",
     "output_type": "stream",
     "text": [
      "Input contains NaN, infinity or a value too large for dtype('float64').\n",
      "f_hardship_start_date_diff\n"
     ]
    }
   ],
   "source": [
    "for c in feature_columns:\n",
    "    try:\n",
    "        sk.utils.assert_all_finite(df[c].values)\n",
    "    except Exception as e:\n",
    "        print(e)\n",
    "        print(c)\n",
    "        break"
   ]
  },
  {
   "cell_type": "code",
   "execution_count": 29,
   "metadata": {},
   "outputs": [
    {
     "name": "stdout",
     "output_type": "stream",
     "text": [
      "['hardship_start_date', 'f_hardship_start_date_month_Dec', 'f_hardship_start_date_month_NaT', 'f_hardship_start_date_month_Oct', 'f_hardship_start_date_diff']\n"
     ]
    }
   ],
   "source": [
    "# df[[\"hardship_start_date\", \"f_hardship_start_date_month_NULL\", \"f_hardship_start_date_diff\"]]\n",
    "hardship_columns = [c for c in df.columns if \"hardship_start_date\" in c]\n",
    "print(hardship_columns)"
   ]
  },
  {
   "cell_type": "code",
   "execution_count": null,
   "metadata": {},
   "outputs": [],
   "source": []
  }
 ],
 "metadata": {
  "kernelspec": {
   "display_name": "Python 3",
   "language": "python",
   "name": "python3"
  },
  "language_info": {
   "codemirror_mode": {
    "name": "ipython",
    "version": 3
   },
   "file_extension": ".py",
   "mimetype": "text/x-python",
   "name": "python",
   "nbconvert_exporter": "python",
   "pygments_lexer": "ipython3",
   "version": "3.6.2"
  }
 },
 "nbformat": 4,
 "nbformat_minor": 2
}
